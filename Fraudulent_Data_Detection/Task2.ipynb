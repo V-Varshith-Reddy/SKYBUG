{
 "cells": [
  {
   "cell_type": "markdown",
   "metadata": {},
   "source": [
    "#                                            Fraudulent Data Detection"
   ]
  },
  {
   "cell_type": "markdown",
   "metadata": {},
   "source": [
    "### Name : Vonteri Varshith Reddy\n"
   ]
  },
  {
   "cell_type": "markdown",
   "metadata": {},
   "source": [
    "### Imports"
   ]
  },
  {
   "cell_type": "code",
   "execution_count": 1,
   "metadata": {},
   "outputs": [],
   "source": [
    "import numpy as np\n",
    "import pandas as pd\n",
    "import matplotlib.pyplot as plt\n",
    "from sklearn.svm import SVC \n",
    "from sklearn.model_selection import train_test_split \n",
    "from sklearn.ensemble import RandomForestClassifier\n",
    "from sklearn.model_selection import train_test_split\n",
    "\n",
    "\n",
    "\n"
   ]
  },
  {
   "cell_type": "markdown",
   "metadata": {},
   "source": [
    "### Data Loading"
   ]
  },
  {
   "cell_type": "code",
   "execution_count": 2,
   "metadata": {},
   "outputs": [
    {
     "name": "stderr",
     "output_type": "stream",
     "text": [
      "c:\\Users\\hp\\anaconda3\\lib\\site-packages\\IPython\\core\\interactiveshell.py:3165: DtypeWarning: Columns (2,5,12,13,14,15,19,20,21,22) have mixed types.Specify dtype option on import or set low_memory=False.\n",
      "  has_raised = await self.run_ast_nodes(code_ast.body, cell_name,\n"
     ]
    }
   ],
   "source": [
    "Train_data_file = \"./fraudTrain.csv\"\n",
    "Test_data_file = \"./fraudTest.csv\"\n",
    "delimiter = \",\"\n",
    "\n",
    "name = [\"\",\"trans_date_trans_time\",\"cc_num\",\"merchant\",\"category\",\"amt\",\"first\",\"last\",\"gender\",\"street\",\"city\",\"state\",\"zip\",\"lat\",\"long\",\"city_pop\",\"job\",\"dob\",\"trans_num\",\"unix_time\",\"merch_lat\",\"merch_long\",\"is_fraud\"\n",
    "]\n",
    "Train_data = pd.read_csv(Train_data_file,delimiter = delimiter,header=None,names = name)\n",
    "Test_data  = pd.read_csv(Test_data_file,Train_data_file,delimiter = delimiter,header=None, names = name)\n",
    "\n",
    "Train_data.drop(Train_data.index[0], inplace=True)\n",
    "Test_data.drop(Test_data.index[0], inplace=True)"
   ]
  },
  {
   "cell_type": "code",
   "execution_count": 3,
   "metadata": {},
   "outputs": [
    {
     "data": {
      "text/html": [
       "<div>\n",
       "<style scoped>\n",
       "    .dataframe tbody tr th:only-of-type {\n",
       "        vertical-align: middle;\n",
       "    }\n",
       "\n",
       "    .dataframe tbody tr th {\n",
       "        vertical-align: top;\n",
       "    }\n",
       "\n",
       "    .dataframe thead th {\n",
       "        text-align: right;\n",
       "    }\n",
       "</style>\n",
       "<table border=\"1\" class=\"dataframe\">\n",
       "  <thead>\n",
       "    <tr style=\"text-align: right;\">\n",
       "      <th></th>\n",
       "      <th></th>\n",
       "      <th>trans_date_trans_time</th>\n",
       "      <th>cc_num</th>\n",
       "      <th>merchant</th>\n",
       "      <th>category</th>\n",
       "      <th>amt</th>\n",
       "      <th>first</th>\n",
       "      <th>last</th>\n",
       "      <th>gender</th>\n",
       "      <th>street</th>\n",
       "      <th>...</th>\n",
       "      <th>lat</th>\n",
       "      <th>long</th>\n",
       "      <th>city_pop</th>\n",
       "      <th>job</th>\n",
       "      <th>dob</th>\n",
       "      <th>trans_num</th>\n",
       "      <th>unix_time</th>\n",
       "      <th>merch_lat</th>\n",
       "      <th>merch_long</th>\n",
       "      <th>is_fraud</th>\n",
       "    </tr>\n",
       "  </thead>\n",
       "  <tbody>\n",
       "    <tr>\n",
       "      <th>1</th>\n",
       "      <td>0.0</td>\n",
       "      <td>2019-01-01 00:00:18</td>\n",
       "      <td>2703186189652095</td>\n",
       "      <td>fraud_Rippin, Kub and Mann</td>\n",
       "      <td>misc_net</td>\n",
       "      <td>4.97</td>\n",
       "      <td>Jennifer</td>\n",
       "      <td>Banks</td>\n",
       "      <td>F</td>\n",
       "      <td>561 Perry Cove</td>\n",
       "      <td>...</td>\n",
       "      <td>36.0788</td>\n",
       "      <td>-81.1781</td>\n",
       "      <td>3495</td>\n",
       "      <td>Psychologist, counselling</td>\n",
       "      <td>1988-03-09</td>\n",
       "      <td>0b242abb623afc578575680df30655b9</td>\n",
       "      <td>1325376018</td>\n",
       "      <td>36.011293</td>\n",
       "      <td>-82.048315</td>\n",
       "      <td>0</td>\n",
       "    </tr>\n",
       "    <tr>\n",
       "      <th>2</th>\n",
       "      <td>1.0</td>\n",
       "      <td>2019-01-01 00:00:44</td>\n",
       "      <td>630423337322</td>\n",
       "      <td>fraud_Heller, Gutmann and Zieme</td>\n",
       "      <td>grocery_pos</td>\n",
       "      <td>107.23</td>\n",
       "      <td>Stephanie</td>\n",
       "      <td>Gill</td>\n",
       "      <td>F</td>\n",
       "      <td>43039 Riley Greens Suite 393</td>\n",
       "      <td>...</td>\n",
       "      <td>48.8878</td>\n",
       "      <td>-118.2105</td>\n",
       "      <td>149</td>\n",
       "      <td>Special educational needs teacher</td>\n",
       "      <td>1978-06-21</td>\n",
       "      <td>1f76529f8574734946361c461b024d99</td>\n",
       "      <td>1325376044</td>\n",
       "      <td>49.159046999999994</td>\n",
       "      <td>-118.186462</td>\n",
       "      <td>0</td>\n",
       "    </tr>\n",
       "    <tr>\n",
       "      <th>3</th>\n",
       "      <td>2.0</td>\n",
       "      <td>2019-01-01 00:00:51</td>\n",
       "      <td>38859492057661</td>\n",
       "      <td>fraud_Lind-Buckridge</td>\n",
       "      <td>entertainment</td>\n",
       "      <td>220.11</td>\n",
       "      <td>Edward</td>\n",
       "      <td>Sanchez</td>\n",
       "      <td>M</td>\n",
       "      <td>594 White Dale Suite 530</td>\n",
       "      <td>...</td>\n",
       "      <td>42.1808</td>\n",
       "      <td>-112.262</td>\n",
       "      <td>4154</td>\n",
       "      <td>Nature conservation officer</td>\n",
       "      <td>1962-01-19</td>\n",
       "      <td>a1a22d70485983eac12b5b88dad1cf95</td>\n",
       "      <td>1325376051</td>\n",
       "      <td>43.150704</td>\n",
       "      <td>-112.154481</td>\n",
       "      <td>0</td>\n",
       "    </tr>\n",
       "    <tr>\n",
       "      <th>4</th>\n",
       "      <td>3.0</td>\n",
       "      <td>2019-01-01 00:01:16</td>\n",
       "      <td>3534093764340240</td>\n",
       "      <td>fraud_Kutch, Hermiston and Farrell</td>\n",
       "      <td>gas_transport</td>\n",
       "      <td>45.0</td>\n",
       "      <td>Jeremy</td>\n",
       "      <td>White</td>\n",
       "      <td>M</td>\n",
       "      <td>9443 Cynthia Court Apt. 038</td>\n",
       "      <td>...</td>\n",
       "      <td>46.2306</td>\n",
       "      <td>-112.1138</td>\n",
       "      <td>1939</td>\n",
       "      <td>Patent attorney</td>\n",
       "      <td>1967-01-12</td>\n",
       "      <td>6b849c168bdad6f867558c3793159a81</td>\n",
       "      <td>1325376076</td>\n",
       "      <td>47.034331</td>\n",
       "      <td>-112.561071</td>\n",
       "      <td>0</td>\n",
       "    </tr>\n",
       "    <tr>\n",
       "      <th>5</th>\n",
       "      <td>4.0</td>\n",
       "      <td>2019-01-01 00:03:06</td>\n",
       "      <td>375534208663984</td>\n",
       "      <td>fraud_Keeling-Crist</td>\n",
       "      <td>misc_pos</td>\n",
       "      <td>41.96</td>\n",
       "      <td>Tyler</td>\n",
       "      <td>Garcia</td>\n",
       "      <td>M</td>\n",
       "      <td>408 Bradley Rest</td>\n",
       "      <td>...</td>\n",
       "      <td>38.4207</td>\n",
       "      <td>-79.4629</td>\n",
       "      <td>99</td>\n",
       "      <td>Dance movement psychotherapist</td>\n",
       "      <td>1986-03-28</td>\n",
       "      <td>a41d7549acf90789359a9aa5346dcb46</td>\n",
       "      <td>1325376186</td>\n",
       "      <td>38.674999</td>\n",
       "      <td>-78.632459</td>\n",
       "      <td>0</td>\n",
       "    </tr>\n",
       "  </tbody>\n",
       "</table>\n",
       "<p>5 rows × 23 columns</p>\n",
       "</div>"
      ],
      "text/plain": [
       "       trans_date_trans_time            cc_num  \\\n",
       "1  0.0   2019-01-01 00:00:18  2703186189652095   \n",
       "2  1.0   2019-01-01 00:00:44      630423337322   \n",
       "3  2.0   2019-01-01 00:00:51    38859492057661   \n",
       "4  3.0   2019-01-01 00:01:16  3534093764340240   \n",
       "5  4.0   2019-01-01 00:03:06   375534208663984   \n",
       "\n",
       "                             merchant       category     amt      first  \\\n",
       "1          fraud_Rippin, Kub and Mann       misc_net    4.97   Jennifer   \n",
       "2     fraud_Heller, Gutmann and Zieme    grocery_pos  107.23  Stephanie   \n",
       "3                fraud_Lind-Buckridge  entertainment  220.11     Edward   \n",
       "4  fraud_Kutch, Hermiston and Farrell  gas_transport    45.0     Jeremy   \n",
       "5                 fraud_Keeling-Crist       misc_pos   41.96      Tyler   \n",
       "\n",
       "      last gender                        street  ...      lat       long  \\\n",
       "1    Banks      F                561 Perry Cove  ...  36.0788   -81.1781   \n",
       "2     Gill      F  43039 Riley Greens Suite 393  ...  48.8878  -118.2105   \n",
       "3  Sanchez      M      594 White Dale Suite 530  ...  42.1808   -112.262   \n",
       "4    White      M   9443 Cynthia Court Apt. 038  ...  46.2306  -112.1138   \n",
       "5   Garcia      M              408 Bradley Rest  ...  38.4207   -79.4629   \n",
       "\n",
       "  city_pop                                job         dob  \\\n",
       "1     3495          Psychologist, counselling  1988-03-09   \n",
       "2      149  Special educational needs teacher  1978-06-21   \n",
       "3     4154        Nature conservation officer  1962-01-19   \n",
       "4     1939                    Patent attorney  1967-01-12   \n",
       "5       99     Dance movement psychotherapist  1986-03-28   \n",
       "\n",
       "                          trans_num   unix_time           merch_lat  \\\n",
       "1  0b242abb623afc578575680df30655b9  1325376018           36.011293   \n",
       "2  1f76529f8574734946361c461b024d99  1325376044  49.159046999999994   \n",
       "3  a1a22d70485983eac12b5b88dad1cf95  1325376051           43.150704   \n",
       "4  6b849c168bdad6f867558c3793159a81  1325376076           47.034331   \n",
       "5  a41d7549acf90789359a9aa5346dcb46  1325376186           38.674999   \n",
       "\n",
       "    merch_long is_fraud  \n",
       "1   -82.048315        0  \n",
       "2  -118.186462        0  \n",
       "3  -112.154481        0  \n",
       "4  -112.561071        0  \n",
       "5   -78.632459        0  \n",
       "\n",
       "[5 rows x 23 columns]"
      ]
     },
     "execution_count": 3,
     "metadata": {},
     "output_type": "execute_result"
    }
   ],
   "source": [
    "Train_data.head()"
   ]
  },
  {
   "cell_type": "code",
   "execution_count": 4,
   "metadata": {},
   "outputs": [
    {
     "data": {
      "text/html": [
       "<div>\n",
       "<style scoped>\n",
       "    .dataframe tbody tr th:only-of-type {\n",
       "        vertical-align: middle;\n",
       "    }\n",
       "\n",
       "    .dataframe tbody tr th {\n",
       "        vertical-align: top;\n",
       "    }\n",
       "\n",
       "    .dataframe thead th {\n",
       "        text-align: right;\n",
       "    }\n",
       "</style>\n",
       "<table border=\"1\" class=\"dataframe\">\n",
       "  <thead>\n",
       "    <tr style=\"text-align: right;\">\n",
       "      <th></th>\n",
       "      <th></th>\n",
       "      <th>trans_date_trans_time</th>\n",
       "      <th>cc_num</th>\n",
       "      <th>merchant</th>\n",
       "      <th>category</th>\n",
       "      <th>amt</th>\n",
       "      <th>first</th>\n",
       "      <th>last</th>\n",
       "      <th>gender</th>\n",
       "      <th>street</th>\n",
       "      <th>...</th>\n",
       "      <th>lat</th>\n",
       "      <th>long</th>\n",
       "      <th>city_pop</th>\n",
       "      <th>job</th>\n",
       "      <th>dob</th>\n",
       "      <th>trans_num</th>\n",
       "      <th>unix_time</th>\n",
       "      <th>merch_lat</th>\n",
       "      <th>merch_long</th>\n",
       "      <th>is_fraud</th>\n",
       "    </tr>\n",
       "  </thead>\n",
       "  <tbody>\n",
       "    <tr>\n",
       "      <th>1</th>\n",
       "      <td>0.0</td>\n",
       "      <td>2020-06-21 12:14:25</td>\n",
       "      <td>2291163933867244</td>\n",
       "      <td>fraud_Kirlin and Sons</td>\n",
       "      <td>personal_care</td>\n",
       "      <td>2.86</td>\n",
       "      <td>Jeff</td>\n",
       "      <td>Elliott</td>\n",
       "      <td>M</td>\n",
       "      <td>351 Darlene Green</td>\n",
       "      <td>...</td>\n",
       "      <td>33.9659</td>\n",
       "      <td>-80.9355</td>\n",
       "      <td>333497</td>\n",
       "      <td>Mechanical engineer</td>\n",
       "      <td>1968-03-19</td>\n",
       "      <td>2da90c7d74bd46a0caf3777415b3ebd3</td>\n",
       "      <td>1371816865</td>\n",
       "      <td>33.986391</td>\n",
       "      <td>-81.200714</td>\n",
       "      <td>0</td>\n",
       "    </tr>\n",
       "    <tr>\n",
       "      <th>2</th>\n",
       "      <td>1.0</td>\n",
       "      <td>2020-06-21 12:14:33</td>\n",
       "      <td>3573030041201292</td>\n",
       "      <td>fraud_Sporer-Keebler</td>\n",
       "      <td>personal_care</td>\n",
       "      <td>29.84</td>\n",
       "      <td>Joanne</td>\n",
       "      <td>Williams</td>\n",
       "      <td>F</td>\n",
       "      <td>3638 Marsh Union</td>\n",
       "      <td>...</td>\n",
       "      <td>40.3207</td>\n",
       "      <td>-110.436</td>\n",
       "      <td>302</td>\n",
       "      <td>Sales professional, IT</td>\n",
       "      <td>1990-01-17</td>\n",
       "      <td>324cc204407e99f51b0d6ca0055005e7</td>\n",
       "      <td>1371816873</td>\n",
       "      <td>39.450497999999996</td>\n",
       "      <td>-109.960431</td>\n",
       "      <td>0</td>\n",
       "    </tr>\n",
       "    <tr>\n",
       "      <th>3</th>\n",
       "      <td>2.0</td>\n",
       "      <td>2020-06-21 12:14:53</td>\n",
       "      <td>3598215285024754</td>\n",
       "      <td>fraud_Swaniawski, Nitzsche and Welch</td>\n",
       "      <td>health_fitness</td>\n",
       "      <td>41.28</td>\n",
       "      <td>Ashley</td>\n",
       "      <td>Lopez</td>\n",
       "      <td>F</td>\n",
       "      <td>9333 Valentine Point</td>\n",
       "      <td>...</td>\n",
       "      <td>40.6729</td>\n",
       "      <td>-73.5365</td>\n",
       "      <td>34496</td>\n",
       "      <td>Librarian, public</td>\n",
       "      <td>1970-10-21</td>\n",
       "      <td>c81755dbbbea9d5c77f094348a7579be</td>\n",
       "      <td>1371816893</td>\n",
       "      <td>40.49581</td>\n",
       "      <td>-74.196111</td>\n",
       "      <td>0</td>\n",
       "    </tr>\n",
       "    <tr>\n",
       "      <th>4</th>\n",
       "      <td>3.0</td>\n",
       "      <td>2020-06-21 12:15:15</td>\n",
       "      <td>3591919803438423</td>\n",
       "      <td>fraud_Haley Group</td>\n",
       "      <td>misc_pos</td>\n",
       "      <td>60.05</td>\n",
       "      <td>Brian</td>\n",
       "      <td>Williams</td>\n",
       "      <td>M</td>\n",
       "      <td>32941 Krystal Mill Apt. 552</td>\n",
       "      <td>...</td>\n",
       "      <td>28.5697</td>\n",
       "      <td>-80.8191</td>\n",
       "      <td>54767</td>\n",
       "      <td>Set designer</td>\n",
       "      <td>1987-07-25</td>\n",
       "      <td>2159175b9efe66dc301f149d3d5abf8c</td>\n",
       "      <td>1371816915</td>\n",
       "      <td>28.812397999999998</td>\n",
       "      <td>-80.883061</td>\n",
       "      <td>0</td>\n",
       "    </tr>\n",
       "    <tr>\n",
       "      <th>5</th>\n",
       "      <td>4.0</td>\n",
       "      <td>2020-06-21 12:15:17</td>\n",
       "      <td>3526826139003047</td>\n",
       "      <td>fraud_Johnston-Casper</td>\n",
       "      <td>travel</td>\n",
       "      <td>3.19</td>\n",
       "      <td>Nathan</td>\n",
       "      <td>Massey</td>\n",
       "      <td>M</td>\n",
       "      <td>5783 Evan Roads Apt. 465</td>\n",
       "      <td>...</td>\n",
       "      <td>44.2529</td>\n",
       "      <td>-85.01700000000001</td>\n",
       "      <td>1126</td>\n",
       "      <td>Furniture designer</td>\n",
       "      <td>1955-07-06</td>\n",
       "      <td>57ff021bd3f328f8738bb535c302a31b</td>\n",
       "      <td>1371816917</td>\n",
       "      <td>44.959148</td>\n",
       "      <td>-85.884734</td>\n",
       "      <td>0</td>\n",
       "    </tr>\n",
       "  </tbody>\n",
       "</table>\n",
       "<p>5 rows × 23 columns</p>\n",
       "</div>"
      ],
      "text/plain": [
       "       trans_date_trans_time            cc_num  \\\n",
       "1  0.0   2020-06-21 12:14:25  2291163933867244   \n",
       "2  1.0   2020-06-21 12:14:33  3573030041201292   \n",
       "3  2.0   2020-06-21 12:14:53  3598215285024754   \n",
       "4  3.0   2020-06-21 12:15:15  3591919803438423   \n",
       "5  4.0   2020-06-21 12:15:17  3526826139003047   \n",
       "\n",
       "                               merchant        category    amt   first  \\\n",
       "1                 fraud_Kirlin and Sons   personal_care   2.86    Jeff   \n",
       "2                  fraud_Sporer-Keebler   personal_care  29.84  Joanne   \n",
       "3  fraud_Swaniawski, Nitzsche and Welch  health_fitness  41.28  Ashley   \n",
       "4                     fraud_Haley Group        misc_pos  60.05   Brian   \n",
       "5                 fraud_Johnston-Casper          travel   3.19  Nathan   \n",
       "\n",
       "       last gender                       street  ...      lat  \\\n",
       "1   Elliott      M            351 Darlene Green  ...  33.9659   \n",
       "2  Williams      F             3638 Marsh Union  ...  40.3207   \n",
       "3     Lopez      F         9333 Valentine Point  ...  40.6729   \n",
       "4  Williams      M  32941 Krystal Mill Apt. 552  ...  28.5697   \n",
       "5    Massey      M     5783 Evan Roads Apt. 465  ...  44.2529   \n",
       "\n",
       "                 long city_pop                     job         dob  \\\n",
       "1            -80.9355   333497     Mechanical engineer  1968-03-19   \n",
       "2            -110.436      302  Sales professional, IT  1990-01-17   \n",
       "3            -73.5365    34496       Librarian, public  1970-10-21   \n",
       "4            -80.8191    54767            Set designer  1987-07-25   \n",
       "5  -85.01700000000001     1126      Furniture designer  1955-07-06   \n",
       "\n",
       "                          trans_num   unix_time           merch_lat  \\\n",
       "1  2da90c7d74bd46a0caf3777415b3ebd3  1371816865           33.986391   \n",
       "2  324cc204407e99f51b0d6ca0055005e7  1371816873  39.450497999999996   \n",
       "3  c81755dbbbea9d5c77f094348a7579be  1371816893            40.49581   \n",
       "4  2159175b9efe66dc301f149d3d5abf8c  1371816915  28.812397999999998   \n",
       "5  57ff021bd3f328f8738bb535c302a31b  1371816917           44.959148   \n",
       "\n",
       "    merch_long is_fraud  \n",
       "1   -81.200714        0  \n",
       "2  -109.960431        0  \n",
       "3   -74.196111        0  \n",
       "4   -80.883061        0  \n",
       "5   -85.884734        0  \n",
       "\n",
       "[5 rows x 23 columns]"
      ]
     },
     "execution_count": 4,
     "metadata": {},
     "output_type": "execute_result"
    }
   ],
   "source": [
    "Test_data.head()"
   ]
  },
  {
   "cell_type": "markdown",
   "metadata": {},
   "source": [
    "### Preprocessing the data"
   ]
  },
  {
   "cell_type": "code",
   "execution_count": 5,
   "metadata": {},
   "outputs": [],
   "source": [
    "Train_data['hour'] = pd.to_datetime(Train_data['trans_date_trans_time']).dt.hour\n",
    "Test_data['hour'] = pd.to_datetime(Test_data['trans_date_trans_time']).dt.hour"
   ]
  },
  {
   "cell_type": "code",
   "execution_count": 6,
   "metadata": {},
   "outputs": [
    {
     "data": {
      "image/png": "[encoded data removed]",
      "text/plain": [
       "<Figure size 720x432 with 1 Axes>"
      ]
     },
     "metadata": {
      "needs_background": "light"
     },
     "output_type": "display_data"
    }
   ],
   "source": [
    "fraudulent_data = Train_data[Train_data['is_fraud'] == 1]\n",
    "\n",
    "# Counting frequency of fraudulent transactions for each hour \n",
    "fraudulent_counts = fraudulent_data.groupby('hour').size()\n",
    "\n",
    "# Plot of (Number of fraudulent transactions during ith hour) v/s (time(in hour))\n",
    "plt.figure(figsize=(10, 6))\n",
    "plt.bar(fraudulent_counts.index, fraudulent_counts.values)\n",
    "plt.xlabel('Hour')\n",
    "plt.ylabel('Number of Fraudulent Transactions')\n",
    "plt.title('Fraudulent Transactions in ith hour')\n",
    "plt.xticks(range(24))  \n",
    "plt.grid(axis='y') \n",
    "plt.show()"
   ]
  },
  {
   "cell_type": "code",
   "execution_count": 7,
   "metadata": {},
   "outputs": [
    {
     "data": {
      "image/png": "[encoded data removed]",
      "text/plain": [
       "<Figure size 864x576 with 1 Axes>"
      ]
     },
     "metadata": {
      "needs_background": "light"
     },
     "output_type": "display_data"
    }
   ],
   "source": [
    "fraudulent_data = Train_data[Train_data['is_fraud'] == 1]\n",
    "\n",
    "# Counting frequency of fraudulent transactions for each value of amount\n",
    "fraudulent_amount_counts = fraudulent_data['amt'].value_counts()\n",
    "\n",
    "# Plot of (Number of fraudulent transactions for a value of transaction amount) v/s (amount values)\n",
    "plt.figure(figsize=(12, 8))\n",
    "plt.bar(fraudulent_amount_counts.index, fraudulent_amount_counts.values, width=5) \n",
    "plt.xlabel('Amount')\n",
    "plt.ylabel('Number of Fraudulent Transactions')\n",
    "plt.title('Number of Fraudulent Transactions vs Transaction Amount')\n",
    "plt.show()"
   ]
  },
  {
   "cell_type": "code",
   "execution_count": 8,
   "metadata": {},
   "outputs": [
    {
     "name": "stdout",
     "output_type": "stream",
     "text": [
      "['0' '1' 0 1]\n",
      "object\n"
     ]
    }
   ],
   "source": [
    "# Checking for Nan values or not useful data points\n",
    "# Converting the attribute is_fraud from string to integer for easy comparision\n",
    "print(Train_data['is_fraud'].unique())\n",
    "print(Train_data['is_fraud'].dtype)\n",
    "\n",
    "Train_data['is_fraud'] = Train_data['is_fraud'].replace({'0': 0, '1': 1})\n",
    "Train_data['is_fraud'] = Train_data['is_fraud'].astype(int)\n",
    "\n",
    "Test_data['is_fraud'] = Test_data['is_fraud'].replace({'0': 0, '1': 1})\n",
    "Test_data['is_fraud'] = Test_data['is_fraud'].astype(int)\n"
   ]
  },
  {
   "cell_type": "markdown",
   "metadata": {},
   "source": [
    "### Training on SVM Model"
   ]
  },
  {
   "cell_type": "code",
   "execution_count": 9,
   "metadata": {},
   "outputs": [
    {
     "data": {
      "text/plain": [
       "SVC(kernel='linear')"
      ]
     },
     "execution_count": 9,
     "metadata": {},
     "output_type": "execute_result"
    }
   ],
   "source": [
    "# Converting the extracted 'hour' attribute column(train input,test inputs for the model) to 2D array to train and test the model\n",
    "\n",
    "X_train = np.array(Train_data[\"hour\"]).reshape(-1, 1)\n",
    "y_train = Train_data[\"is_fraud\"]\n",
    "\n",
    "X_test = np.array(Test_data[\"hour\"]).reshape(-1, 1)\n",
    "y_test = Test_data[\"is_fraud\"]\n",
    "\n",
    "# SVM Model Instantiation\n",
    "SVM = SVC(kernel='linear')\n",
    "\n",
    "# Fitting the train data\n",
    "SVM.fit(X_train, y_train)\n"
   ]
  },
  {
   "cell_type": "markdown",
   "metadata": {},
   "source": [
    "### SVM Model Evaluation"
   ]
  },
  {
   "cell_type": "markdown",
   "metadata": {},
   "source": [
    "##### - Accuracy on training data"
   ]
  },
  {
   "cell_type": "code",
   "execution_count": 21,
   "metadata": {},
   "outputs": [
    {
     "name": "stdout",
     "output_type": "stream",
     "text": [
      "Percentage Accuracy of SVM model on Train data: 99.4211348\n"
     ]
    }
   ],
   "source": [
    "# Model Evaluation\n",
    "accuracy = SVM.score(X_train, y_train)\n",
    "accuracy = accuracy*100\n",
    "print(f\"Percentage Accuracy of SVM model on Train data: {accuracy:.7f}\")"
   ]
  },
  {
   "cell_type": "markdown",
   "metadata": {},
   "source": [
    "##### - Accuracy on testing data"
   ]
  },
  {
   "cell_type": "code",
   "execution_count": 22,
   "metadata": {},
   "outputs": [
    {
     "name": "stdout",
     "output_type": "stream",
     "text": [
      "Percentage Accuracy of SVM model on Test data: 99.6140136\n"
     ]
    }
   ],
   "source": [
    "# Model Evaluation\n",
    "accuracy = SVM.score(X_test, y_test)\n",
    "accuracy = accuracy*100\n",
    "print(f\"Percentage Accuracy of SVM model on Test data: {accuracy:.7f}\")"
   ]
  },
  {
   "cell_type": "code",
   "execution_count": null,
   "metadata": {},
   "outputs": [],
   "source": []
  },
  {
   "cell_type": "markdown",
   "metadata": {},
   "source": [
    "### Training on Random Forest Classifier"
   ]
  },
  {
   "cell_type": "code",
   "execution_count": 12,
   "metadata": {},
   "outputs": [
    {
     "data": {
      "text/plain": [
       "RandomForestClassifier(random_state=42)"
      ]
     },
     "execution_count": 12,
     "metadata": {},
     "output_type": "execute_result"
    }
   ],
   "source": [
    "# Converting the extracted 'hour' attribute column(train input,test inputs for the model) to 2D array to train and test the model\n",
    "\n",
    "X_train = np.array(Train_data[\"hour\"]).reshape(-1, 1)\n",
    "y_train = Train_data[\"is_fraud\"].replace({'0': 0, '1': 1}).astype(int)\n",
    "\n",
    "X_test = np.array(Test_data[\"hour\"]).reshape(-1, 1)\n",
    "y_test = Test_data[\"is_fraud\"].replace({'0': 0, '1': 1}).astype(int)\n",
    "\n",
    "# Random Forest Classifier Instantiation \n",
    "RandomForest = RandomForestClassifier(n_estimators=100, random_state=42)  # You can adjust parameters as needed\n",
    "\n",
    "# Fitting the train data\n",
    "RandomForest.fit(X_train, y_train)\n"
   ]
  },
  {
   "cell_type": "markdown",
   "metadata": {},
   "source": [
    "### Random Forest Classifier Evaluation"
   ]
  },
  {
   "cell_type": "markdown",
   "metadata": {},
   "source": [
    "##### - Accuracy on training data"
   ]
  },
  {
   "cell_type": "code",
   "execution_count": 20,
   "metadata": {},
   "outputs": [
    {
     "name": "stdout",
     "output_type": "stream",
     "text": [
      "Percentage Accuracy of Random Forest model on Train data: 99.4211348\n"
     ]
    }
   ],
   "source": [
    "# Model Evaluation\n",
    "accuracy = RandomForest.score(X_train, y_train)\n",
    "accuracy = accuracy*100\n",
    "print(f\"Percentage Accuracy of Random Forest model on Train data: {accuracy:.7f}\")"
   ]
  },
  {
   "cell_type": "markdown",
   "metadata": {},
   "source": [
    "##### - Accuracy on training data"
   ]
  },
  {
   "cell_type": "code",
   "execution_count": 19,
   "metadata": {},
   "outputs": [
    {
     "name": "stdout",
     "output_type": "stream",
     "text": [
      "Percentage Accuracy of Random Forest model on Test data: 99.6140136\n"
     ]
    }
   ],
   "source": [
    "# Model Evaluation\n",
    "accuracy = RandomForest.score(X_test, y_test)\n",
    "accuracy = accuracy*100\n",
    "print(f\"Percentage Accuracy of Random Forest model on Test data: {accuracy:.7f}\")"
   ]
  },
  {
   "cell_type": "code",
   "execution_count": null,
   "metadata": {},
   "outputs": [],
   "source": []
  },
  {
   "cell_type": "code",
   "execution_count": null,
   "metadata": {},
   "outputs": [],
   "source": []
  }
 ],
 "metadata": {
  "kernelspec": {
   "display_name": "Python 3.8.8 ('base')",
   "language": "python",
   "name": "python3"
  },
  "language_info": {
   "codemirror_mode": {
    "name": "ipython",
    "version": 3
   },
   "file_extension": ".py",
   "mimetype": "text/x-python",
   "name": "python",
   "nbconvert_exporter": "python",
   "pygments_lexer": "ipython3",
   "version": "3.8.8"
  },
  "orig_nbformat": 4,
  "vscode": {
   "interpreter": {
    "hash": "b302cdd1e032ee910f5c889c3360c28564c92ad4f326fc3102e39fbe47faee66"
   }
  }
 },
 "nbformat": 4,
 "nbformat_minor": 2
}
